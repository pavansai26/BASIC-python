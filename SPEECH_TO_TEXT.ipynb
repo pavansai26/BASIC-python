{
  "nbformat": 4,
  "nbformat_minor": 0,
  "metadata": {
    "colab": {
      "private_outputs": true,
      "provenance": [],
      "authorship_tag": "ABX9TyPJjFMbGWHzGivjPRClAntX",
      "include_colab_link": true
    },
    "kernelspec": {
      "name": "python3",
      "display_name": "Python 3"
    },
    "language_info": {
      "name": "python"
    }
  },
  "cells": [
    {
      "cell_type": "markdown",
      "metadata": {
        "id": "view-in-github",
        "colab_type": "text"
      },
      "source": [
        "<a href=\"https://colab.research.google.com/github/pavansai26/BASIC-python/blob/master/SPEECH_TO_TEXT.ipynb\" target=\"_parent\"><img src=\"https://colab.research.google.com/assets/colab-badge.svg\" alt=\"Open In Colab\"/></a>"
      ]
    },
    {
      "cell_type": "code",
      "execution_count": null,
      "metadata": {
        "id": "dPSNvcp6OwNT"
      },
      "outputs": [],
      "source": [
        "!pip install openai \n"
      ]
    },
    {
      "cell_type": "code",
      "source": [
        "!pip3 install pinecone-client\n"
      ],
      "metadata": {
        "id": "T338DZ0rPmlU"
      },
      "execution_count": null,
      "outputs": []
    },
    {
      "cell_type": "code",
      "source": [
        "import openai\n",
        "import os\n"
      ],
      "metadata": {
        "id": "xJCAVh6aCj-d"
      },
      "execution_count": null,
      "outputs": []
    },
    {
      "cell_type": "code",
      "source": [
        "file_name = \"/path/to/file/audio.mp3\"\n",
        "file_stats = os.stat(file_name)\n",
        "\n",
        "print(file_stats)\n",
        "print(f'File Size in Bytes is {file_stats.st_size}')\n",
        "print(f'File Size in MegaBytes is {file_stats.st_size / (1024 * 1024)}')"
      ],
      "metadata": {
        "id": "5r2W1fO1IZKM"
      },
      "execution_count": null,
      "outputs": []
    },
    {
      "cell_type": "code",
      "source": [
        "openai_api_key = os.getenv(\"OPENAI_API_KEY\")\n",
        "print(\"openai_api_key_____\",openai_api_key)\n",
        "openai.api_key=openai_api_key\n",
        "\n",
        "pine_cone_api_key = os.getenv(\"PINE_CONE_API_KEY\")\n",
        "pine_cone_environment = os.getenv(\"PINE_CONE_ENVIRONMENT\")\n",
        "print(\"pine_cone_api_key: \",pine_cone_api_key)\n",
        "print(\"pine_cone_environment: \",pine_cone_environment)"
      ],
      "metadata": {
        "id": "nuNUh0Qr_71K"
      },
      "execution_count": null,
      "outputs": []
    },
    {
      "cell_type": "code",
      "source": [],
      "metadata": {
        "id": "LEATTjvb7QQ5"
      },
      "execution_count": null,
      "outputs": []
    },
    {
      "cell_type": "code",
      "execution_count": null,
      "metadata": {
        "id": "Hg0yIGu3tRNo"
      },
      "outputs": [],
      "source": [
        "MODEL = \"text-embedding-ada-002\"\n",
        "\n",
        "res = openai.Embedding.create(\n",
        "    input=[\n",
        "        \"Sample document text goes here\",\n",
        "        \"there will be several phrases in each batch\"\n",
        "    ], engine=MODEL\n",
        ")\n",
        "res"
      ]
    },
    {
      "cell_type": "code",
      "execution_count": null,
      "metadata": {
        "id": "ZguN6obBtRNp"
      },
      "outputs": [],
      "source": [
        "# we can extract embeddings to a list\n",
        "embeds = [record['embedding'] for record in res['data']]\n",
        "len(embeds)"
      ]
    },
    {
      "cell_type": "code",
      "source": [],
      "metadata": {
        "id": "TrukDt9Q8XWp"
      },
      "execution_count": null,
      "outputs": []
    },
    {
      "cell_type": "code",
      "execution_count": null,
      "metadata": {
        "id": "I2KLRbN-tRNq"
      },
      "outputs": [],
      "source": [
        "import pinecone\n",
        "\n",
        "index_name = 'semantic-search-openai'\n",
        "\n",
        "# initialize connection to pinecone (get API key at app.pinecone.io)\n",
        "pinecone.init(\n",
        "    api_key=\"PINECONE_API_KEY\",\n",
        "    environment=\"YOUR_ENV\"  # find next to api key in console\n",
        ")\n",
        "# check if 'openai' index already exists (only create index if not)\n",
        "if index_name not in pinecone.list_indexes():\n",
        "    pinecone.create_index(index_name, dimension=len(embeds[0]))\n",
        "# connect to index\n",
        "index = pinecone.Index(index_name)"
      ]
    },
    {
      "cell_type": "markdown",
      "source": [
        "The following example creates an index that only indexes the \"color\" metadata field. Queries against this index cannot filter based on any other metadata field."
      ],
      "metadata": {
        "id": "0eSB0r3vQifm"
      }
    },
    {
      "cell_type": "code",
      "source": [
        "import pinecone\n",
        "\n",
        "pinecone.init(api_key=pine_cone_api_key, environment=pine_cone_environment)\n",
        "pine_index = pinecone.Index(PINECONE_INDEX_NAME)"
      ],
      "metadata": {
        "id": "XkL6LEO07Ksw"
      },
      "execution_count": null,
      "outputs": []
    },
    {
      "cell_type": "code",
      "source": [
        "import openai\n",
        "\n",
        "API_KEY = '<API KEY>'\n",
        "model_id = 'whisper-1'\n",
        "\n",
        "media_file_path = 'Steve Job\\'s Goodbye Speech.wav'\n",
        "media_file = open(media_file_path, 'rb')\n",
        "\n",
        "response = openai.Audio.transcribe(\n",
        "    api_key=API_KEY,\n",
        "    model=model_id,\n",
        "    file=media_file\n",
        ")\n",
        "print(response.data['text'])"
      ],
      "metadata": {
        "id": "6T3kaUrHvrjJ"
      },
      "execution_count": null,
      "outputs": []
    },
    {
      "cell_type": "markdown",
      "source": [
        "# New section"
      ],
      "metadata": {
        "id": "NUI-eXW11wtW"
      }
    },
    {
      "cell_type": "code",
      "source": [
        "audio_file= open(file_name, \"rb\")\n",
        "transcript = openai.Audio.transcribe(\"whisper-1\", audio_file)"
      ],
      "metadata": {
        "id": "cNlLLPlsSF-P"
      },
      "execution_count": null,
      "outputs": []
    },
    {
      "cell_type": "code",
      "source": [
        "import openai\n",
        "\n",
        "def generate_sql_query(user_input):\n",
        "    # Use OpenAI to generate SQL query based on user input or retrieved similar queries\n",
        "    response = openai.Completion.create(\n",
        "        engine=\"davinci-codex\",\n",
        "        prompt=user_input,\n",
        "        max_tokens=1000,\n",
        "        n=1,\n",
        "        temperature=0.8,\n",
        "        stop=None\n",
        "    )\n",
        "    generated_query = response['choices'][0]['text']\n",
        "    return generated_query\n"
      ],
      "metadata": {
        "id": "b4rhw9fGSGf1"
      },
      "execution_count": null,
      "outputs": []
    }
  ]
}